{
 "cells": [
  {
   "cell_type": "markdown",
   "metadata": {},
   "source": [
    "# Regular Expressions"
   ]
  },
  {
   "cell_type": "markdown",
   "metadata": {},
   "source": [
    "# Tasks today:\n",
    "1) <b>Importing</b> <br>\n",
    "2) <b>Using Regular Expressions</b> <br>\n",
    " &nbsp;&nbsp;&nbsp;&nbsp; a) re.compile() <br>\n",
    " &nbsp;&nbsp;&nbsp;&nbsp; b) re.match() <br>\n",
    " &nbsp;&nbsp;&nbsp;&nbsp; c) re.findall() <br>\n",
    " &nbsp;&nbsp;&nbsp;&nbsp; d) re.search() <br>\n",
    "3) <b>Sets</b> <br>\n",
    " &nbsp;&nbsp;&nbsp;&nbsp; a) Integer Ranges <br>\n",
    " &nbsp;&nbsp;&nbsp;&nbsp; b) Character Ranges <br>\n",
    "4) <b>Counting Occurences</b> <br>\n",
    " &nbsp;&nbsp;&nbsp;&nbsp; a) {x} <br>\n",
    " &nbsp;&nbsp;&nbsp;&nbsp; b) {, x} <br>\n",
    " &nbsp;&nbsp;&nbsp;&nbsp; c) {?} <br>\n",
    " &nbsp;&nbsp;&nbsp;&nbsp; d) {*} <br>\n",
    " &nbsp;&nbsp;&nbsp;&nbsp; e) {+} <br>\n",
    "5) <b>In-Class Exercise #1</b> <br>\n",
    "6) <b>Escaping Characters</b> <br>\n",
    "7) <b>Grouping</b> <br>\n",
    "8) <b>In-Class Exercise #2</b> <br>\n",
    "9) <b>Opening a File</b> <br>\n",
    " &nbsp;&nbsp;&nbsp;&nbsp; a) open() <br>\n",
    " &nbsp;&nbsp;&nbsp;&nbsp; b) with open() <br>\n",
    " &nbsp;&nbsp;&nbsp;&nbsp; c) re.match() <br>\n",
    " &nbsp;&nbsp;&nbsp;&nbsp; d) re.search() <br>\n",
    " &nbsp;&nbsp;&nbsp;&nbsp; e) Store the String in a Variable <br>\n",
    "10) <b>Regex Project</b> <br>"
   ]
  },
  {
   "cell_type": "markdown",
   "metadata": {},
   "source": [
    "### Importing <br>\n",
    "<p>Regular Expressions are universal throughout most programming languages... They are generally imported through the module 're'.</p>"
   ]
  },
  {
   "cell_type": "code",
   "execution_count": 2,
   "metadata": {},
   "outputs": [],
   "source": [
    "# import re\n",
    "import re"
   ]
  },
  {
   "cell_type": "markdown",
   "metadata": {},
   "source": [
    "### Using Regular Expressions <br>\n",
    "<p>Regular expressions give us the ability to search for patterns within text, strings, files, etc. They serve several uses, such as; security measures, searching, filtering, pattern recognition, and more...</p>"
   ]
  },
  {
   "cell_type": "markdown",
   "metadata": {},
   "source": [
    "##### re.compile()"
   ]
  },
  {
   "cell_type": "code",
   "execution_count": 80,
   "metadata": {},
   "outputs": [],
   "source": [
    "# using compile, pre determines the string to be used in regular expression methods\n",
    "\n",
    "old = re.compile(\"abcd\")\n",
    "\n",
    "\n"
   ]
  },
  {
   "cell_type": "markdown",
   "metadata": {},
   "source": [
    "##### re.match()"
   ]
  },
  {
   "cell_type": "code",
   "execution_count": 120,
   "metadata": {},
   "outputs": [
    {
     "name": "stdout",
     "output_type": "stream",
     "text": [
      "<re.Match object; span=(0, 4), match='abcd'>\n",
      "(0, 4)\n"
     ]
    }
   ],
   "source": [
    "newThing = old.match(\"abcdm9\")\n",
    "print(newThing)\n",
    "\n",
    "# Accessing the span of the match\n",
    "print(newThing.span())\n",
    "\n",
    "\n"
   ]
  },
  {
   "cell_type": "markdown",
   "metadata": {},
   "source": [
    "##### re.findall()"
   ]
  },
  {
   "cell_type": "code",
   "execution_count": 61,
   "metadata": {},
   "outputs": [
    {
     "name": "stdout",
     "output_type": "stream",
     "text": [
      "['abcd', 'abcd', 'abcd']\n"
     ]
    }
   ],
   "source": [
    "finders= old.findall(\"123abcd abcd123 abcd abcabc acb\")\n",
    "print(finders)"
   ]
  },
  {
   "cell_type": "markdown",
   "metadata": {},
   "source": [
    "##### re.search()"
   ]
  },
  {
   "cell_type": "code",
   "execution_count": 132,
   "metadata": {},
   "outputs": [
    {
     "name": "stdout",
     "output_type": "stream",
     "text": [
      "<re.Match object; span=(12, 16), match='abcd'>\n",
      "(12, 16)\n",
      "abcd\n"
     ]
    }
   ],
   "source": [
    "random_string= \"123 123 234 abcd aibcd\"\n",
    "searching = old.search(random_string)\n",
    "print(searching)\n",
    "\n",
    "spany=searching.span()\n",
    "print(spany)\n",
    "print(random_string[spany[0]:spany[1]])\n",
    "\n"
   ]
  },
  {
   "cell_type": "markdown",
   "metadata": {},
   "source": [
    "### Sets <br>\n",
    "<p>The following cells will allow you to use regular expressions to search for certain values within a range such as numbers 1 through 4.</p>"
   ]
  },
  {
   "cell_type": "markdown",
   "metadata": {},
   "source": [
    "##### [a-z] or [A-Z] - any lowercase/uppercase letters from a to z<br/>[^2] - anything that's not 2"
   ]
  },
  {
   "cell_type": "markdown",
   "metadata": {},
   "source": [
    "##### Integer Ranges"
   ]
  },
  {
   "cell_type": "code",
   "execution_count": 135,
   "metadata": {},
   "outputs": [
    {
     "name": "stdout",
     "output_type": "stream",
     "text": [
      "<re.Match object; span=(2, 5), match='383'>\n"
     ]
    }
   ],
   "source": [
    "#here we are using pattern_int to create a list that we can compare somehting to \n",
    "#then we create a new variable that will store new information and compare the information to the pattern_int we created \n",
    "#the first thing that happens when we compare the lists in we will look through our random numbers for anything in a range of \n",
    "# 0-5 because thats the first range we have in our pattern_int variable, the first match we have in our random_numbers is a 3,\n",
    "# that counts as a match, then we move onto the next range in our pattern_int which is 7-9, it is important to note that \n",
    "# we will start this search from the last match that we found which is the first number 3 in our random numbers, so starting\n",
    "# from that first number 3 we will now look for any numbers in a range 7-9, the next match we would get it 8, \n",
    "# we then do the same process for the last 0-3 range in our pattern_int\n",
    "\n",
    "\n",
    "pattern_int= re.compile(\"[0-5][7-9][0-3]\")\n",
    "\n",
    "random_numbers= pattern_int.search('67383')\n",
    "\n",
    "print(random_numbers)"
   ]
  },
  {
   "cell_type": "markdown",
   "metadata": {},
   "source": [
    "##### Character Ranges"
   ]
  },
  {
   "cell_type": "code",
   "execution_count": 154,
   "metadata": {},
   "outputs": [
    {
     "name": "stdout",
     "output_type": "stream",
     "text": [
      "['He', 'Mr', 'An']\n"
     ]
    }
   ],
   "source": [
    "# this acts in a similar way to search but will continue through an entire string for every match instead of just\n",
    "# stopping after one match like .search does\n",
    "\n",
    "#here we make a compile of char-pattern so we have it to compare against something later\n",
    "# then we make a new variable called found which will store new infomation and compare it to the char_pattern information.\n",
    "# the first thing were looking for in our found variable information in a capital letter in a range from A_Z the first match \n",
    "#we get is the H in Hello, so that counts a match and we move onto the next thing in our range which is a lower case a-z\n",
    "#again its important to note that we will start our search from the last match we found which was the letter H, so the first lower\n",
    "# case letter after capital H is the \"e\" in Hello so that counts as a match, from there we will contine this pattern and look \n",
    "# for the next Upper and lower case letters \n",
    "\n",
    "\n",
    "char_pattern = re.compile(\"[A-Z][a-z]\")\n",
    "\n",
    "found= char_pattern.findall(\"Hello ther Mr Anderson\")\n",
    "\n",
    "print(found)"
   ]
  },
  {
   "cell_type": "markdown",
   "metadata": {},
   "source": [
    "### Counting Occurences"
   ]
  },
  {
   "cell_type": "markdown",
   "metadata": {},
   "source": [
    "##### {x} - something that occurs {num_of_times}"
   ]
  },
  {
   "cell_type": "code",
   "execution_count": 196,
   "metadata": {},
   "outputs": [
    {
     "name": "stdout",
     "output_type": "stream",
     "text": [
      "[]\n"
     ]
    }
   ],
   "source": [
    "# the {number} will indicate how many times do you want the thing to the left of {number} to happen \n",
    "#so in this case we will have 2 matches for the numbers in the range 0-3 \n",
    " \n",
    "\n",
    "char_pat = re.compile(\"[A-Z][a-z][0-3]{2}\")\n",
    "\n",
    "found_count = char_pat.findall(\"Hello Mrr.And33erson\")\n",
    "\n",
    "print(found_count)"
   ]
  },
  {
   "cell_type": "markdown",
   "metadata": {},
   "source": [
    "##### {x, y} - something that occurs between x and y times"
   ]
  },
  {
   "cell_type": "code",
   "execution_count": 205,
   "metadata": {},
   "outputs": [
    {
     "name": "stdout",
     "output_type": "stream",
     "text": [
      "['m', 'mmmmm', 'mmmmm', 'mm', 'm', 'm', 'mm', 'm', 'm']\n"
     ]
    }
   ],
   "source": [
    "# this is asking our random_pattern to compare every time there is an m and if its a whole bunch of m's \n",
    "#dont accept aything past 5m's in a row chop them into another set \n",
    "\n",
    "random_pattern= re.compile(\"m{1,5}\")\n",
    "\n",
    "random_statement= random_pattern.findall(\"this im a randommmmmmmmmmmm moody mother mmoo moreover money\")\n",
    "\n",
    "print(random_statement)"
   ]
  },
  {
   "cell_type": "markdown",
   "metadata": {},
   "source": [
    "##### ? - something that occurs 0 or 1 time"
   ]
  },
  {
   "cell_type": "code",
   "execution_count": 207,
   "metadata": {},
   "outputs": [
    {
     "name": "stdout",
     "output_type": "stream",
     "text": [
      "['Mrss', 'Mrs']\n"
     ]
    }
   ],
   "source": [
    "# the question mark indicates that the thing to the left of it can occur ether 0 times or 1 times\n",
    "# so in this case the matches were looking for can be Mrss or Mrs because the question mark is making that last s optional \n",
    "\n",
    "pattern = re.compile(\"Mrss?\")\n",
    "\n",
    "found_pat = pattern.findall(\"hello M ther Mrss. anderson, mid how is Mrs. Anderson and Ms. anderson \")\n",
    "\n",
    "print(found_pat)\n",
    "\n"
   ]
  },
  {
   "cell_type": "markdown",
   "metadata": {},
   "source": [
    "##### * - something that occurs at least 0 times"
   ]
  },
  {
   "cell_type": "code",
   "execution_count": 218,
   "metadata": {},
   "outputs": [
    {
     "name": "stdout",
     "output_type": "stream",
     "text": [
      "['MMMs', 'Ms', 's', 's', 'MMs', 's', 's', 's', 's', 's']\n"
     ]
    }
   ],
   "source": [
    "# the * makes the thing to the left of it optional, but if it is there it will count it as a match\n",
    "# so in this case were saying if there is a capital M count it as a match if its not there dont worry about it \n",
    "\n",
    "pattern_m = re.compile(\"M*s\")\n",
    "\n",
    "found_m = pattern_m.findall(\"MMMs name in Ms. Smith. This is MMssssss\")\n",
    "\n",
    "print(found_m)"
   ]
  },
  {
   "cell_type": "markdown",
   "metadata": {},
   "source": [
    "##### + - something that occurs at least once"
   ]
  },
  {
   "cell_type": "code",
   "execution_count": 214,
   "metadata": {},
   "outputs": [
    {
     "name": "stdout",
     "output_type": "stream",
     "text": [
      "['MMMs', 'Ms', 'MMs']\n"
     ]
    }
   ],
   "source": [
    "# the + affects the item to the left of it, saying in this case if the word has at least one M in it count it as a match \n",
    "\n",
    "pattern_again= re.compile(\"M+s\")\n",
    "\n",
    "found_patt= pattern_again.findall(\"MMMs name in Ms. Smith. This is MMssssss\")\n",
    "\n",
    "print(found_patt)"
   ]
  },
  {
   "cell_type": "markdown",
   "metadata": {},
   "source": [
    "##### In-class exercise 1: \n",
    "\n",
    "Use a regular expression to find every number in the given string"
   ]
  },
  {
   "cell_type": "code",
   "execution_count": 226,
   "metadata": {},
   "outputs": [
    {
     "name": "stdout",
     "output_type": "stream",
     "text": [
      "['10909090', '1', '2']\n"
     ]
    }
   ],
   "source": [
    "num_find = re.compile(\"[0-99999999]{1,10}\")\n",
    "\n",
    "my_string = num_find.findall(\"this string has 10909090 numbers, but is only 1 string.  I hope u solve this 2day.\")\n",
    "\n",
    "print(my_string)\n"
   ]
  },
  {
   "cell_type": "markdown",
   "metadata": {},
   "source": [
    "### Escaping Characters"
   ]
  },
  {
   "cell_type": "markdown",
   "metadata": {},
   "source": [
    "##### \\w - look for any Unicode character<br/>\\W - look for anything that isnt a Unicode character\n",
    "\n",
    "[History on Unicode](http://unicode.org/standard/WhatIsUnicode.html)\n",
    "\n",
    "[More on Unicode Characters](https://en.wikipedia.org/wiki/List_of_Unicode_characters)"
   ]
  },
  {
   "cell_type": "code",
   "execution_count": 230,
   "metadata": {},
   "outputs": [
    {
     "name": "stdout",
     "output_type": "stream",
     "text": [
      "['this', 'sentence', 'With', 'exclamation', 'mark', 'at', 'the', 'end']\n",
      "[' ', '.', ' ', ',', ' ', ' ', ' ', ' ', ' ', '!']\n"
     ]
    }
   ],
   "source": [
    "# unicode just means a number or a letter\n",
    "# so in this example when we want to look for anything thats a number or letter well use pattern_1 with the lower case w\n",
    "# and if we want anything thats not a number or letter well use pattern_2 with the upper case W\n",
    "\n",
    "pattern_1= re.compile(\"[\\w]+\")\n",
    "pattern_2= re.compile(\"[\\W]\")\n",
    "\n",
    "found_1= pattern_1.findall(\"this sentence. With, exclamation mark at the end!\")\n",
    "found_2= pattern_2.findall(\"this sentence. With, exclamation mark at the end!\")\n",
    "\n",
    "print(found_1)\n",
    "print(found_2)"
   ]
  },
  {
   "cell_type": "markdown",
   "metadata": {},
   "source": [
    "##### \\d - look for any digit 0-9<br/>\\D - look for anything that isnt a digit"
   ]
  },
  {
   "cell_type": "code",
   "execution_count": 265,
   "metadata": {},
   "outputs": [
    {
     "name": "stdout",
     "output_type": "stream",
     "text": [
      "['7th', '20da', '27th', '3rd', '1st', '30th']\n"
     ]
    }
   ],
   "source": [
    "pattern_nums= re.compile(\"\\d{1,2}[a-z]{2}\")\n",
    "\n",
    "found_date= pattern_nums.findall(\"today is the 7th in 20days it will be the 27th. 3rd, 1st, 30th\")\n",
    "\n",
    "print(found_date)"
   ]
  },
  {
   "cell_type": "markdown",
   "metadata": {},
   "source": [
    "##### \\s - look for any white space<br/>\\S - look for anything that isnt whitespace"
   ]
  },
  {
   "cell_type": "code",
   "execution_count": 266,
   "metadata": {},
   "outputs": [
    {
     "name": "stdout",
     "output_type": "stream",
     "text": [
      "['Are', 'you', 'afraid', 'of', 'the', 'dark']\n",
      "[' ', ' ', ' ', ' ', ' ']\n"
     ]
    }
   ],
   "source": [
    "pattern_no_space= re.compile(\"\\S[a-z]+\")\n",
    "pattern_space= re.compile(\"\\s+\")\n",
    "\n",
    "found_no_space= pattern_no_space.findall(\"Are you afraid of the dark?\")\n",
    "found_space= pattern_space.findall(\"Are you afraid of the dark?\")\n",
    "\n",
    "print(found_no_space)\n",
    "print(found_space)\n"
   ]
  },
  {
   "cell_type": "markdown",
   "metadata": {},
   "source": [
    "##### \\b - look for boundaries or edges of a word<br/>\\B - look for anything that isnt a boundary"
   ]
  },
  {
   "cell_type": "code",
   "execution_count": 298,
   "metadata": {},
   "outputs": [
    {
     "name": "stdout",
     "output_type": "stream",
     "text": [
      "[]\n",
      "['TheCodingTemple']\n"
     ]
    }
   ],
   "source": [
    "# r is for rostering its similar to f for format we need it to keep everything functioning as we want\n",
    "\n",
    "pattern_bound= re.compile(r\"\\bTheCodingTemple\\b\")\n",
    "pattern_bound_none= re.compile(r\"\\BTheCodingTemple\\B\")\n",
    "\n",
    "no_bound= pattern_bound_none.findall(\"TheCodingTemple\")\n",
    "print(no_bound)\n",
    "\n",
    "found_bound= pattern_bound.findall(\"TheCodingTemple\")\n",
    "print(found_bound)"
   ]
  },
  {
   "cell_type": "markdown",
   "metadata": {},
   "source": [
    "### Grouping"
   ]
  },
  {
   "cell_type": "code",
   "execution_count": 321,
   "metadata": {},
   "outputs": [
    {
     "name": "stdout",
     "output_type": "stream",
     "text": [
      "[('Max', 'Smith'), ('Aaron', 'Rodgers'), ('Sam', 'Darnold'), ('LeBron', 'James'), ('Michael', 'Jordan'), ('Kevin', 'Durant'), ('Patrick', 'McCormick')]\n",
      "('Max', 'Smith')\n",
      "('Aaron', 'Rodgers')\n",
      "('Sam', 'Darnold')\n",
      "('LeBron', 'James')\n",
      "('Michael', 'Jordan')\n",
      "('Kevin', 'Durant')\n",
      "('Patrick', 'McCormick')\n"
     ]
    }
   ],
   "source": [
    "# for .group() you can choose your group and .groups() it will show all groups \n",
    "my_string_again= \"Max Smith, Aaron Rodgers, Sam Darnold,LeBron James, Michael Jordan, Kevin Durant, Patrick McCormick\"\n",
    "\n",
    "# Group of names Regex compiler\n",
    "pattern_name=re.compile(\"([A-Z][a-zA-Za-z]+) ([A-Z][A-Za-z]+)\")\n",
    "\n",
    "found_names= pattern_name.findall(my_string_again)\n",
    "print(found_names)\n",
    "\n",
    "for name in my_string_again.split(\",\"):\n",
    "    match=pattern_name.search(name)\n",
    "\n",
    "    if match:\n",
    "        print(match.groups())\n",
    "    else:\n",
    "        print(\"Not a name\")"
   ]
  },
  {
   "cell_type": "markdown",
   "metadata": {},
   "source": [
    "<!-- The next one is just for my notes  -->"
   ]
  },
  {
   "cell_type": "code",
   "execution_count": null,
   "metadata": {},
   "outputs": [],
   "source": [
    "names_of_people= \"Max Smith, aaron rodgers, Sam Darnold,LeBron James, Michael Jordan, Kevin Durant, Patrick McCormick\"\n",
    "\n",
    "# create a pattern to search through the names of people\n",
    "pattern_name=re.compile(\"([A-Za-z][a-zA-Za-z]+) ([A-Za-z][A-Za-z]+)\")\n",
    "\n",
    "\n",
    "# the split is saying once we go through both of the groups in our pattern were going to look for the \n",
    "# next item after a ,  so if we deleted the , after Max Smith we would lose aaron rodgers because the pattern would \n",
    "# have gone through the two groups its looking to satisfy then is moving onto the text after the next ,\n",
    "for name in names_of_people.split(\",\"):\n",
    "    match=pattern_name.search(name)\n",
    "\n",
    "    if match:\n",
    "        print(match.groups())\n",
    "    else:\n",
    "        print(\"Not a name\")"
   ]
  },
  {
   "cell_type": "markdown",
   "metadata": {},
   "source": [
    "##### In-class Exercise 2:\n",
    "\n",
    "Write a function using regular expressions to find the domain name in the given email addresses (and return None for the invalid email addresses)<br><b>HINT: Use '|' for either or</b>"
   ]
  },
  {
   "cell_type": "code",
   "execution_count": 53,
   "metadata": {},
   "outputs": [
    {
     "name": "stdout",
     "output_type": "stream",
     "text": [
      "None\n",
      "pocohontas1776@gmail.com\n",
      "None\n",
      "yourfavoriteband@g6.org\n",
      "None\n"
     ]
    }
   ],
   "source": [
    "my_emails = [\"jordanw@codingtemple.orgcom\", \"pocohontas1776@gmail.com\", \"helloworld@aol..com\",\n",
    "             \"yourfavoriteband@g6.org\", \"@codingtemple.com\"]\n",
    "\n",
    "\n",
    "\n",
    "def verify_email_domain_in_list(my_emails):\n",
    "    email_pattern = re.compile(\"[a-zA-Z0-9]+@[a-zA-Z0-9]+(.com|.org)$\")\n",
    "\n",
    "    for email in my_emails:\n",
    "        match = email_pattern.match(email)\n",
    "\n",
    "        if match:\n",
    "            print(email)\n",
    "        else:\n",
    "            print(\"None\")\n",
    "\n",
    "\n",
    "\n",
    "verify_email_domain_in_list(my_emails)\n",
    "\n",
    "\n",
    "\n",
    "\n",
    "\n",
    "# You can also use the $ at the end of your compile expression -- this stops the search\n",
    "\n",
    "#.com OR .org => com|org\n",
    "\n",
    "#Expected output:\n",
    "#None\n",
    "#pocohontas1776@gmail.com\n",
    "#None\n",
    "#yourfavoriteband@g6.org\n",
    "#None\n",
    "\n",
    "\n"
   ]
  },
  {
   "cell_type": "markdown",
   "metadata": {},
   "source": [
    "### Opening a File <br>\n",
    "<p>Python gives us a couple ways to import files, below are the two used most often.</p>"
   ]
  },
  {
   "cell_type": "markdown",
   "metadata": {},
   "source": [
    "##### open()"
   ]
  },
  {
   "cell_type": "code",
   "execution_count": 70,
   "metadata": {},
   "outputs": [
    {
     "name": "stdout",
     "output_type": "stream",
     "text": [
      "Hawkins, Derek\tderek@codingtemple.com\t(555) 555-5555\tTeacher, Coding Temple\t@derekhawkins\n",
      "Zhai, Mo\tmozhai@codingtemple.com\t(555) 555-5554\tTeacher, Coding Temple\n",
      "Johnson, Joe\tjoejohnson@codingtemple.com\t\tJohson, Joe\n",
      "Osterberg, Sven-Erik\tgovernor@norrbotten.co.se\t\tGovernor, Norrbotten\t@sverik\n",
      ", Tim\ttim@killerrabbit.com\t\tEnchanter, Killer Rabbit Cave\n",
      "Butz, Ryan\tryanb@codingtemple.com\t(555) 555-5543\tCEO, Coding Temple\t@ryanbutz\n",
      "Doctor, The\tdoctor+companion@tardis.co.uk\t\tTime Lord, Gallifrey\n",
      "Exampleson, Example\tme@example.com\t555-555-5552\tExample, Example Co.\t@example\n",
      "Pael, Ripal\tripalp@codingtemple.com\t(555) 555-5553\tTeacher, Coding Temple\t@ripalp\n",
      "Vader, Darth\tdarth-vader@empire.gov\t(555) 555-4444\tSith Lord, Galactic Empire\t@darthvader\n",
      "Fernandez de la Vega Sanz, Maria Teresa\tmtfvs@spain.gov\t\tFirst Deputy Prime Minister, Spanish Gov\n",
      "\n"
     ]
    },
    {
     "data": {
      "text/plain": [
       "<function TextIOWrapper.close()>"
      ]
     },
     "execution_count": 70,
     "metadata": {},
     "output_type": "execute_result"
    }
   ],
   "source": [
    "#were using f as a way to just say go ahead and open up the naxes.txt file\n",
    "#then were using data as a way to say(use the f variable)open the names.txt file and read it \n",
    "#when we print data were saying print out the data thats open from the names.txt file \n",
    "\n",
    "f = open(\"names.txt\")\n",
    "\n",
    "data= f.read()\n",
    "\n",
    "print(data)\n",
    "\n",
    "f.close"
   ]
  },
  {
   "cell_type": "code",
   "execution_count": null,
   "metadata": {},
   "outputs": [],
   "source": []
  },
  {
   "cell_type": "markdown",
   "metadata": {},
   "source": [
    "##### with open()"
   ]
  },
  {
   "cell_type": "code",
   "execution_count": 72,
   "metadata": {},
   "outputs": [
    {
     "name": "stdout",
     "output_type": "stream",
     "text": [
      "Hawkins, Derek\tderek@codingtemple.com\t(555) 555-5555\tTeacher, Coding Temple\t@derekhawkins\n",
      "Zhai, Mo\tmozhai@codingtemple.com\t(555) 555-5554\tTeacher, Coding Temple\n",
      "Johnson, Joe\tjoejohnson@codingtemple.com\t\tJohson, Joe\n",
      "Osterberg, Sven-Erik\tgovernor@norrbotten.co.se\t\tGovernor, Norrbotten\t@sverik\n",
      ", Tim\ttim@killerrabbit.com\t\tEnchanter, Killer Rabbit Cave\n",
      "Butz, Ryan\tryanb@codingtemple.com\t(555) 555-5543\tCEO, Coding Temple\t@ryanbutz\n",
      "Doctor, The\tdoctor+companion@tardis.co.uk\t\tTime Lord, Gallifrey\n",
      "Exampleson, Example\tme@example.com\t555-555-5552\tExample, Example Co.\t@example\n",
      "Pael, Ripal\tripalp@codingtemple.com\t(555) 555-5553\tTeacher, Coding Temple\t@ripalp\n",
      "Vader, Darth\tdarth-vader@empire.gov\t(555) 555-4444\tSith Lord, Galactic Empire\t@darthvader\n",
      "Fernandez de la Vega Sanz, Maria Teresa\tmtfvs@spain.gov\t\tFirst Deputy Prime Minister, Spanish Gov\n",
      "\n"
     ]
    }
   ],
   "source": [
    "with open (\"names.txt\") as f:\n",
    "    data= f.read()\n",
    "    print(data)"
   ]
  },
  {
   "cell_type": "markdown",
   "metadata": {},
   "source": [
    "##### re.match()"
   ]
  },
  {
   "cell_type": "code",
   "execution_count": 74,
   "metadata": {},
   "outputs": [
    {
     "name": "stdout",
     "output_type": "stream",
     "text": [
      "<re.Match object; span=(0, 14), match='Hawkins, Derek'>\n"
     ]
    }
   ],
   "source": [
    "#here were matching our \"Derek Hawnkins\" to the data variable which is ust our open names.txt file\n",
    "print(re.match(r\"Hawkins, Derek\", data))"
   ]
  },
  {
   "cell_type": "markdown",
   "metadata": {},
   "source": [
    "##### re.search()"
   ]
  },
  {
   "cell_type": "code",
   "execution_count": 75,
   "metadata": {},
   "outputs": [
    {
     "name": "stdout",
     "output_type": "stream",
     "text": [
      "<re.Match object; span=(582, 605), match='ripalp@codingtemple.com'>\n"
     ]
    }
   ],
   "source": [
    "print(re.search(r\"ripalp@codingtemple.com\",data))"
   ]
  },
  {
   "cell_type": "markdown",
   "metadata": {},
   "source": [
    "##### Store the String to a Variable"
   ]
  },
  {
   "cell_type": "code",
   "execution_count": 78,
   "metadata": {},
   "outputs": [
    {
     "name": "stdout",
     "output_type": "stream",
     "text": [
      "nothing here \n"
     ]
    }
   ],
   "source": [
    "answer=input(\"what would you like to search for?\")\n",
    "\n",
    "found= re.findall(answer,data)\n",
    "\n",
    "if found:\n",
    "    print(f\"I found your data {found}\")\n",
    "else:\n",
    "    print(\"nothing here \")"
   ]
  },
  {
   "cell_type": "markdown",
   "metadata": {},
   "source": [
    "### In-Class Exercise #3 <br>\n",
    "<p>Print each persons name and twitter handle, using groups, should look like:</p>\n",
    "<p>==============<br>\n",
    "   Full Name / Twitter<br>\n",
    "   ==============</p>\n",
    "Derek Hawkins / @derekhawkins\n",
    "\n",
    " Erik Sven-Osterberg / @sverik\n",
    "\n",
    " Ryan Butz / @ryanbutz\n",
    "\n",
    " Example Exampleson / @example\n",
    "\n",
    " Ripal Pael / @ripalp\n",
    "\n",
    " Darth Vader / @darthvader"
   ]
  },
  {
   "cell_type": "code",
   "execution_count": 193,
   "metadata": {
    "scrolled": true
   },
   "outputs": [
    {
     "name": "stdout",
     "output_type": "stream",
     "text": [
      "Derek Hawkins/\n",
      "Mo Zhai/\n",
      "Joe Johnson/\n",
      "Sven Osterberg/\n",
      "Killer Enchanter/\n",
      "Ryan Butz/\n",
      "The Doctor/\n",
      "Example Exampleson/\n",
      "Ripal Pael/\n",
      "Darth Vader/\n",
      "Maria Sanz/\n"
     ]
    }
   ],
   "source": [
    "text_random=\"\"\" Hawkins, Derek\tderek@codingtemple.com\t(555) 555-5555\tTeacher, Coding Temple\t@derekhawkins\n",
    "Zhai, Mo\tmozhai@codingtemple.com\t(555) 555-5554\tTeacher, Coding Temple\n",
    "Johnson, Joe\tjoejohnson@codingtemple.com\t\tJohson, Joe\n",
    "Osterberg, Sven-Erik\tgovernor@norrbotten.co.se\t\tGovernor, Norrbotten\t@sverik\n",
    ", Tim\ttim@killerrabbit.com\t\tEnchanter, Killer Rabbit Cave\n",
    "Butz, Ryan\tryanb@codingtemple.com\t(555) 555-5543\tCEO, Coding Temple\t@ryanbutz\n",
    "Doctor, The\tdoctor+companion@tardis.co.uk\t\tTime Lord, Gallifrey\n",
    "Exampleson, Example\tme@example.com\t555-555-5552\tExample, Example Co.\t@example\n",
    "Pael, Ripal\tripalp@codingtemple.com\t(555) 555-5553\tTeacher, Coding Temple\t@ripalp\n",
    "Vader, Darth\tdarth-vader@empire.gov\t(555) 555-4444\tSith Lord, Galactic Empire\t@darthvader\n",
    "Fernandez de la Vega Sanz, Maria Teresa\tmtfvs@spain.gov\t\tFirst Deputy Prime Minister, Spanish Gov \"\"\"\n",
    "\n",
    "\n",
    "#create a pattern to get first and last- in 2 different groups \n",
    "pattern_name_check= re.compile(\"([A-Z][a-z]+), ([A-Z][a-z]+)\")\n",
    "\n",
    "#create a pattern to get the twitter handle \n",
    "pattern_twitter_check= re.compile(\" @\\w\")\n",
    "\n",
    "#now we have to search through each line and print out the pattern name check each group separately\n",
    "#then we print out the pattern twitter check \n",
    "for line in text_random.split(\"\\n\"):\n",
    "    nameFound=pattern_name_check.search(line)\n",
    "    twitterFound=pattern_twitter_check.search(line)\n",
    "    \n",
    "\n",
    "    if nameFound:\n",
    "        print(nameFound.group(2) + \" \" + nameFound.group(1) + \"/\")\n",
    "        \n",
    "\n",
    "\n",
    "\n"
   ]
  },
  {
   "cell_type": "markdown",
   "metadata": {},
   "source": [
    "### Regex project\n",
    "\n",
    "Use python to read the file regex_test.txt and print the last name on each line using regular expressions and groups (return None for names with no first and last name, or names that aren't properly capitalized)\n",
    "##### Hint: use with open() and readlines()"
   ]
  },
  {
   "cell_type": "code",
   "execution_count": null,
   "metadata": {},
   "outputs": [],
   "source": [
    "\"\"\"\n",
    "Expected Output\n",
    "Abraham Lincoln\n",
    "Andrew P Garfield\n",
    "Connor Milliken\n",
    "Jordan Alexander Williams\n",
    "None\n",
    "None\n",
    "\"\"\""
   ]
  },
  {
   "cell_type": "code",
   "execution_count": null,
   "metadata": {},
   "outputs": [],
   "source": []
  }
 ],
 "metadata": {
  "kernelspec": {
   "display_name": "Python 3",
   "language": "python",
   "name": "python3"
  },
  "language_info": {
   "codemirror_mode": {
    "name": "ipython",
    "version": 3
   },
   "file_extension": ".py",
   "mimetype": "text/x-python",
   "name": "python",
   "nbconvert_exporter": "python",
   "pygments_lexer": "ipython3",
   "version": "3.11.5"
  }
 },
 "nbformat": 4,
 "nbformat_minor": 2
}
